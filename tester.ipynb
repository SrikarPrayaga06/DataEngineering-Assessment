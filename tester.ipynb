{
 "cells": [
  {
   "cell_type": "code",
   "execution_count": 108,
   "source": [
    "# imports\n",
    "import csv\n",
    "import json\n",
    "import pandas as pd\n",
    "import yaml"
   ],
   "outputs": [],
   "metadata": {}
  },
  {
   "cell_type": "code",
   "execution_count": 120,
   "source": [
    "# initial data \n",
    "xda=pd.read_csv(\"/Users/srikarprayaga/Desktop/DataEngineering-Assessment/test.csv\")\n",
    "xda.head()"
   ],
   "outputs": [
    {
     "output_type": "execute_result",
     "data": {
      "text/html": [
       "<div>\n",
       "<style scoped>\n",
       "    .dataframe tbody tr th:only-of-type {\n",
       "        vertical-align: middle;\n",
       "    }\n",
       "\n",
       "    .dataframe tbody tr th {\n",
       "        vertical-align: top;\n",
       "    }\n",
       "\n",
       "    .dataframe thead th {\n",
       "        text-align: right;\n",
       "    }\n",
       "</style>\n",
       "<table border=\"1\" class=\"dataframe\">\n",
       "  <thead>\n",
       "    <tr style=\"text-align: right;\">\n",
       "      <th></th>\n",
       "      <th>id</th>\n",
       "      <th>name</th>\n",
       "      <th>description</th>\n",
       "      <th>commas_used</th>\n",
       "      <th>created_at</th>\n",
       "      <th>updated_at</th>\n",
       "    </tr>\n",
       "  </thead>\n",
       "  <tbody>\n",
       "    <tr>\n",
       "      <th>0</th>\n",
       "      <td>1</td>\n",
       "      <td>Test</td>\n",
       "      <td>Test Entry</td>\n",
       "      <td>,,,</td>\n",
       "      <td>1/1/20</td>\n",
       "      <td>1/1/20</td>\n",
       "    </tr>\n",
       "    <tr>\n",
       "      <th>1</th>\n",
       "      <td>2</td>\n",
       "      <td>Test1</td>\n",
       "      <td>Test 1 Entry</td>\n",
       "      <td>,,,,,,</td>\n",
       "      <td>1/1/20</td>\n",
       "      <td>10/5/20</td>\n",
       "    </tr>\n",
       "    <tr>\n",
       "      <th>2</th>\n",
       "      <td>3</td>\n",
       "      <td>Test2</td>\n",
       "      <td>Test 2 Entry</td>\n",
       "      <td>,</td>\n",
       "      <td>3/4/20</td>\n",
       "      <td>3/5/20</td>\n",
       "    </tr>\n",
       "  </tbody>\n",
       "</table>\n",
       "</div>"
      ],
      "text/plain": [
       "   id   name  description  commas_used created_at updated_at\n",
       "0   1   Test    Test Entry         ,,,     1/1/20     1/1/20\n",
       "1   2  Test1  Test 1 Entry      ,,,,,,     1/1/20    10/5/20\n",
       "2   3  Test2  Test 2 Entry           ,     3/4/20     3/5/20"
      ]
     },
     "metadata": {},
     "execution_count": 120
    }
   ],
   "metadata": {}
  },
  {
   "cell_type": "code",
   "execution_count": 121,
   "source": [
    "# function to convert csv to json\n",
    "def csv_to_json(csv_file):\n",
    "    with open(csv_file, 'r',encoding='utf-8-sig') as csv_file: # encoding to handle the BOM (u'\\ufeff error before id)\n",
    "        csv_reader = csv.DictReader(csv_file)\n",
    "        json_file = json.dumps([row for row in csv_reader]) \n",
    "        return json_file"
   ],
   "outputs": [],
   "metadata": {}
  },
  {
   "cell_type": "code",
   "execution_count": 126,
   "source": [
    "# export json to desktop\n",
    "json_export=csv_to_json(\"/Users/srikarprayaga/Desktop/DataEngineering-Assessment/orders.csv\")\n",
    "with open(\"/Users/srikarprayaga/Desktop/test.json\", \"w\") as json_file: # test.json is name of file on desktop \n",
    "    json.dump(json_export, json_file)"
   ],
   "outputs": [],
   "metadata": {}
  },
  {
   "cell_type": "code",
   "execution_count": 129,
   "source": [
    "# just test locally \n",
    "json_export=csv_to_json(\"/Users/srikarprayaga/Desktop/DataEngineering-Assessment/orders.csv\")\n",
    "json_ex=csv_to_json(\"/Users/srikarprayaga/Desktop/DataEngineering-Assessment/test.csv\")"
   ],
   "outputs": [
    {
     "output_type": "execute_result",
     "data": {
      "text/plain": [
       "'[{\"id\": \"1\", \"product_id\": \"3\", \"ordered_at\": \"2021-01-01\\\\n00:00:00\", \"product_quantity\": \"1\", \"created_at\": \"2021-01-01\\\\n00:00:01\", \"updated_at\": \"2021-01-01\\\\n00:01:03\"}, {\"id\": \"2\", \"product_id\": \"1\", \"ordered_at\": \"2021-01-03\\\\n05:00:07\", \"product_quantity\": \"4\", \"created_at\": \"2021-01-03\\\\n05:00:08\", \"updated_at\": \"2021-01-03\\\\n05:02:12\"}, {\"id\": \"3\", \"product_id\": \"5\", \"ordered_at\": \"2021-01-05\\\\n12:05:00\", \"product_quantity\": \"3\", \"created_at\": \"2021-01-05\\\\n12:05:01\", \"updated_at\": \"2021-01-06\\\\n01:05:00\"}, {\"id\": \"4\", \"product_id\": \"1\", \"ordered_at\": \"2021-02-01\\\\n03:00:00\", \"product_quantity\": \"2\", \"created_at\": \"2021-02-01\\\\n03:00:01\", \"updated_at\": \"2021-02-01\\\\n03:00:01\"}, {\"id\": \"5\", \"product_id\": \"1\", \"ordered_at\": \"2021-02-05\\\\n00:00:00\", \"product_quantity\": \"3\", \"created_at\": \"2021-02-05\\\\n00:00:01\", \"updated_at\": \"2021-02-05\\\\n00:00:01\"}]'"
      ]
     },
     "metadata": {},
     "execution_count": 129
    }
   ],
   "metadata": {}
  },
  {
   "cell_type": "code",
   "execution_count": 130,
   "source": [
    "# convert json to csv\n",
    "def json_to_csv(json_file):\n",
    "    xda=pd.read_json(json_file)\n",
    "    return xda.to_csv(\"/Users/srikarprayaga/Desktop/tester.csv\",index=False)\n",
    "json_to_csv(json_ex)"
   ],
   "outputs": [],
   "metadata": {}
  },
  {
   "cell_type": "code",
   "execution_count": 106,
   "source": [
    "# convert json to yaml\n",
    "def json_to_yaml(json_file):\n",
    "    with open(json_file, 'r') as json_file:\n",
    "        json_data=json.load(json_file)\n",
    "        yaml_data=yaml.dump(json_data)\n",
    "        return yaml_data\n",
    "# convert csv to yaml\n",
    "def csv_to_yaml(csv_file):\n",
    "    with open(csv_file, 'r') as csv_file:\n",
    "        csv_data=pd.read_csv(csv_file)\n",
    "        yaml_data=yaml.dump(csv_data)\n",
    "        return yaml_data"
   ],
   "outputs": [],
   "metadata": {}
  },
  {
   "cell_type": "code",
   "execution_count": 109,
   "source": [
    "json_to_yaml(\"/Users/srikarprayaga/Desktop/test.json\")"
   ],
   "outputs": [
    {
     "output_type": "execute_result",
     "data": {
      "text/plain": [
       "'\\'[{\"id\": \"1\", \"product_id\": \"3\", \"ordered_at\": \"2021-01-01\\\\n00:00:00\", \"product_quantity\":\\n  \"1\", \"created_at\": \"2021-01-01\\\\n00:00:01\", \"updated_at\": \"2021-01-01\\\\n00:01:03\"},\\n  {\"id\": \"2\", \"product_id\": \"1\", \"ordered_at\": \"2021-01-03\\\\n05:00:07\", \"product_quantity\":\\n  \"4\", \"created_at\": \"2021-01-03\\\\n05:00:08\", \"updated_at\": \"2021-01-03\\\\n05:02:12\"},\\n  {\"id\": \"3\", \"product_id\": \"5\", \"ordered_at\": \"2021-01-05\\\\n12:05:00\", \"product_quantity\":\\n  \"3\", \"created_at\": \"2021-01-05\\\\n12:05:01\", \"updated_at\": \"2021-01-06\\\\n01:05:00\"},\\n  {\"id\": \"4\", \"product_id\": \"1\", \"ordered_at\": \"2021-02-01\\\\n03:00:00\", \"product_quantity\":\\n  \"2\", \"created_at\": \"2021-02-01\\\\n03:00:01\", \"updated_at\": \"2021-02-01\\\\n03:00:01\"},\\n  {\"id\": \"5\", \"product_id\": \"1\", \"ordered_at\": \"2021-02-05\\\\n00:00:00\", \"product_quantity\":\\n  \"3\", \"created_at\": \"2021-02-05\\\\n00:00:01\", \"updated_at\": \"2021-02-05\\\\n00:00:01\"}]\\'\\n'"
      ]
     },
     "metadata": {},
     "execution_count": 109
    }
   ],
   "metadata": {}
  },
  {
   "cell_type": "code",
   "execution_count": 110,
   "source": [
    "csv_to_yaml(\"/Users/srikarprayaga/Desktop/test.csv\")"
   ],
   "outputs": [
    {
     "output_type": "execute_result",
     "data": {
      "text/plain": [
       "'!!python/object:pandas.core.frame.DataFrame\\n_metadata: []\\n_mgr: !!python/object/new:pandas.core.internals.managers.BlockManager\\n  state: !!python/tuple\\n  - &id004\\n    - !!python/object/apply:pandas.core.indexes.base._new_Index\\n      - &id001 !!python/name:pandas.core.indexes.base.Index \\'\\'\\n      - data: !!python/object/apply:numpy.core.multiarray._reconstruct\\n          args:\\n          - &id002 !!python/name:numpy.ndarray \\'\\'\\n          - !!python/tuple\\n            - 0\\n          - !!binary |\\n            Yg==\\n          state: !!python/tuple\\n          - 1\\n          - !!python/tuple\\n            - 25\\n          - &id003 !!python/object/apply:numpy.dtype\\n            args:\\n            - O8\\n            - false\\n            - true\\n            state: !!python/tuple\\n            - 3\\n            - \\'|\\'\\n            - null\\n            - null\\n            - null\\n            - -1\\n            - -1\\n            - 63\\n          - false\\n          - - \\',id,name,description ,commas_used,created_at,updated_at\\\\n0,1,Test,Test\\n              Entry,\\\\\\'\\n            - \\'Unnamed: 1\\'\\n            - \\'Unnamed: 2\\'\\n            - \\\\\"\\n            - \\'2020-01-01\\'\\n            - 2020-01-01\\\\n1\\n            - \\'2\\'\\n            - Test1\\n            - Test 1 Entry\\n            - \\\\\".1\\n            - \\'Unnamed: 10\\'\\n            - \\'Unnamed: 11\\'\\n            - \\'Unnamed: 12\\'\\n            - \\'Unnamed: 13\\'\\n            - \\'Unnamed: 14\\'\\n            - \\\\\".2\\n            - 2020-01-01.1\\n            - 2020-10-05\\\\n2\\n            - \\'3\\'\\n            - Test2\\n            - Test 2 Entry\\n            - \\\\\".3\\n            - \\\\\".4\\n            - \\'2020-03-04\\'\\n            - 2020-03-05\\\\n\"\\n        name: null\\n    - !!python/object/apply:pandas.core.indexes.base._new_Index\\n      - *id001\\n      - data: !!python/object/apply:numpy.core.multiarray._reconstruct\\n          args:\\n          - *id002\\n          - !!python/tuple\\n            - 0\\n          - !!binary |\\n            Yg==\\n          state: !!python/tuple\\n          - 1\\n          - !!python/tuple\\n            - 0\\n          - *id003\\n          - false\\n          - []\\n        name: null\\n  - - &id005 !!python/object/apply:numpy.core.multiarray._reconstruct\\n      args:\\n      - *id002\\n      - !!python/tuple\\n        - 0\\n      - !!binary |\\n        Yg==\\n      state: !!python/tuple\\n      - 1\\n      - !!python/tuple\\n        - 25\\n        - 0\\n      - *id003\\n      - false\\n      - []\\n  - - !!python/object/apply:pandas.core.indexes.base._new_Index\\n      - *id001\\n      - data: !!python/object/apply:numpy.core.multiarray._reconstruct\\n          args:\\n          - *id002\\n          - !!python/tuple\\n            - 0\\n          - !!binary |\\n            Yg==\\n          state: !!python/tuple\\n          - 1\\n          - !!python/tuple\\n            - 25\\n          - *id003\\n          - false\\n          - - \\',id,name,description ,commas_used,created_at,updated_at\\\\n0,1,Test,Test\\n              Entry,\\\\\\'\\n            - \\'Unnamed: 1\\'\\n            - \\'Unnamed: 2\\'\\n            - \\\\\"\\n            - \\'2020-01-01\\'\\n            - 2020-01-01\\\\n1\\n            - \\'2\\'\\n            - Test1\\n            - Test 1 Entry\\n            - \\\\\".1\\n            - \\'Unnamed: 10\\'\\n            - \\'Unnamed: 11\\'\\n            - \\'Unnamed: 12\\'\\n            - \\'Unnamed: 13\\'\\n            - \\'Unnamed: 14\\'\\n            - \\\\\".2\\n            - 2020-01-01.1\\n            - 2020-10-05\\\\n2\\n            - \\'3\\'\\n            - Test2\\n            - Test 2 Entry\\n            - \\\\\".3\\n            - \\\\\".4\\n            - \\'2020-03-04\\'\\n            - 2020-03-05\\\\n\"\\n        name: null\\n  - 0.14.1:\\n      axes: *id004\\n      blocks:\\n      - mgr_locs: !!python/object/apply:builtins.slice\\n        - 0\\n        - 25\\n        - 1\\n        values: *id005\\n_typ: dataframe\\nattrs: {}\\n'"
      ]
     },
     "metadata": {},
     "execution_count": 110
    }
   ],
   "metadata": {}
  },
  {
   "cell_type": "code",
   "execution_count": null,
   "source": [],
   "outputs": [],
   "metadata": {}
  }
 ],
 "metadata": {
  "orig_nbformat": 4,
  "language_info": {
   "name": "python",
   "version": "3.8.5",
   "mimetype": "text/x-python",
   "codemirror_mode": {
    "name": "ipython",
    "version": 3
   },
   "pygments_lexer": "ipython3",
   "nbconvert_exporter": "python",
   "file_extension": ".py"
  },
  "kernelspec": {
   "name": "python3",
   "display_name": "Python 3.8.5 64-bit ('base': conda)"
  },
  "interpreter": {
   "hash": "dca0ade3e726a953b501b15e8e990130d2b7799f14cfd9f4271676035ebe5511"
  }
 },
 "nbformat": 4,
 "nbformat_minor": 2
}