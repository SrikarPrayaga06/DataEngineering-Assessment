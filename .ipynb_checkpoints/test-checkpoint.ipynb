{
 "cells": [
  {
   "cell_type": "code",
   "execution_count": 1,
   "metadata": {},
   "outputs": [],
   "source": [
    "import csv\n",
    "import json"
   ]
  },
  {
   "cell_type": "code",
   "execution_count": 2,
   "metadata": {},
   "outputs": [],
   "source": [
    "csv_file = '/Users/srikarprayaga/Desktop/orders.csv'"
   ]
  },
  {
   "cell_type": "code",
   "execution_count": 3,
   "metadata": {},
   "outputs": [],
   "source": [
    "def csv_to_json(csv_file):\n",
    "    with open(csv_file, 'r') as f:\n",
    "        reader = csv.reader(f)\n",
    "        columns = next(reader)\n",
    "        json_data = []\n",
    "        for row in reader:\n",
    "            json_data.append(dict(zip(columns, row)))\n",
    "    return json.dumps(json_data)"
   ]
  },
  {
   "cell_type": "code",
   "execution_count": 4,
   "metadata": {},
   "outputs": [],
   "source": [
    "xda=csv_to_json(csv_file)"
   ]
  },
  {
   "cell_type": "code",
   "execution_count": 5,
   "metadata": {},
   "outputs": [],
   "source": [
    "def json_to_csv(json_file):\n",
    "    with open(json_file, 'r') as f:\n",
    "        reader = csv.reader(f)\n",
    "        columns = next(reader)\n",
    "        csv_data = []\n",
    "        for row in reader:\n",
    "            csv_data.append(dict(zip(columns, row)))\n",
    "    return csv_data"
   ]
  },
  {
   "cell_type": "code",
   "execution_count": 6,
   "metadata": {},
   "outputs": [],
   "source": [
    "json_data = csv_to_json(csv_file)\n",
    "json_file = '/Users/srikarprayaga/Desktop/xda.json'"
   ]
  },
  {
   "cell_type": "code",
   "execution_count": 7,
   "metadata": {},
   "outputs": [],
   "source": [
    "with open(json_file, 'w') as f:\n",
    "    json.dump(json_data, f)"
   ]
  },
  {
   "cell_type": "code",
   "execution_count": 26,
   "metadata": {},
   "outputs": [
    {
     "data": {
      "text/plain": [
       "[]"
      ]
     },
     "execution_count": 26,
     "metadata": {},
     "output_type": "execute_result"
    }
   ],
   "source": []
  },
  {
   "cell_type": "code",
   "execution_count": 28,
   "metadata": {},
   "outputs": [],
   "source": [
    "columns = ['id', 'name', 'description', 'commas_used', 'created_at', 'updated_at']\n",
    "csv_file = '/Users/srikarprayaga/Desktop/xs.csv'\n",
    "csv_data = json_to_csv(json_file)\n",
    "with open(csv_file, 'w') as f:\n",
    "    writer = csv.writer(f)\n",
    "    writer.writerow(columns)\n",
    "    for row in csv_data:\n",
    "        writer.writerow(row.values())"
   ]
  },
  {
   "cell_type": "code",
   "execution_count": null,
   "metadata": {},
   "outputs": [],
   "source": []
  }
 ],
 "metadata": {
  "kernelspec": {
   "display_name": "Python 3",
   "language": "python",
   "name": "python3"
  },
  "language_info": {
   "codemirror_mode": {
    "name": "ipython",
    "version": 3
   },
   "file_extension": ".py",
   "mimetype": "text/x-python",
   "name": "python",
   "nbconvert_exporter": "python",
   "pygments_lexer": "ipython3",
   "version": "3.8.5"
  }
 },
 "nbformat": 4,
 "nbformat_minor": 4
}
